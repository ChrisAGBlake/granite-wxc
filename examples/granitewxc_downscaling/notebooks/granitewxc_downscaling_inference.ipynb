{
 "cells": [
  {
   "cell_type": "markdown",
   "id": "4548c3cc-7537-4d14-8d3e-c703e08098df",
   "metadata": {},
   "source": [
    "# Prithvi WxC Downscaling: Model Inference"
   ]
  },
  {
   "cell_type": "markdown",
   "id": "5bfd0463-3a0c-4cf0-8ba7-748327411e65",
   "metadata": {},
   "source": [
    "*Note to set up env run these commands in your terminal before running the notebook*\n",
    "- `conda create -n prithviwxc python=3.11 xarray scipy h5netcdf matplotplib wget pyyaml xarray scipy`\n",
    "- `conda activate prithviwxc`\n",
    "- `pip install -e <path to cloned PrithviWxC repo>` (see https://github.com/NASA-IMPACT/Prithvi-WxC)\n",
    "- `export PYTHONPATH=<path to weather-fm-ibm>`"
   ]
  },
  {
   "cell_type": "code",
   "execution_count": 1,
   "id": "ac7d63af-3e22-4a72-a32d-fa3008739944",
   "metadata": {
    "execution": {
     "iopub.execute_input": "2024-09-20T18:30:12.194523Z",
     "iopub.status.busy": "2024-09-20T18:30:12.194252Z",
     "iopub.status.idle": "2024-09-20T18:30:12.221368Z",
     "shell.execute_reply": "2024-09-20T18:30:12.220952Z",
     "shell.execute_reply.started": "2024-09-20T18:30:12.194506Z"
    }
   },
   "outputs": [],
   "source": [
    "%load_ext autoreload\n",
    "%autoreload 2"
   ]
  },
  {
   "cell_type": "code",
   "execution_count": 2,
   "id": "9cd85b45",
   "metadata": {},
   "outputs": [],
   "source": [
    "import os, sys\n",
    "sys.path.append('/path/to/granite-wxc')"
   ]
  },
  {
   "cell_type": "code",
   "execution_count": null,
   "id": "7d998b74-9395-49c8-838a-11872cd4689b",
   "metadata": {
    "execution": {
     "iopub.execute_input": "2024-09-20T18:30:12.222596Z",
     "iopub.status.busy": "2024-09-20T18:30:12.222256Z",
     "iopub.status.idle": "2024-09-20T18:30:12.337701Z",
     "shell.execute_reply": "2024-09-20T18:30:12.337259Z",
     "shell.execute_reply.started": "2024-09-20T18:30:12.222581Z"
    },
    "tags": []
   },
   "outputs": [],
   "source": [
    "%%bash\n",
    "echo $PYTHONPATH"
   ]
  },
  {
   "cell_type": "code",
   "execution_count": 5,
   "id": "caf141b3-6577-4846-9793-a1db11edbd2b",
   "metadata": {
    "execution": {
     "iopub.execute_input": "2024-09-20T19:57:48.680880Z",
     "iopub.status.busy": "2024-09-20T19:57:48.680564Z",
     "iopub.status.idle": "2024-09-20T19:57:48.740394Z",
     "shell.execute_reply": "2024-09-20T19:57:48.739891Z",
     "shell.execute_reply.started": "2024-09-20T19:57:48.680854Z"
    }
   },
   "outputs": [],
   "source": [
    "import os\n",
    "import random\n",
    "from pathlib import Path\n",
    "\n",
    "import matplotlib.pyplot as plt\n",
    "from itertools import product\n",
    "import numpy as np\n",
    "import torch\n",
    "\n",
    "from granitewxc.utils.distributed import init_ddp\n",
    "from granitewxc.utils.config import get_config\n",
    "from granitewxc.utils.data import get_dataloaders\n",
    "from granitewxc.utils.downscaling_model import get_finetune_model\n",
    "\n",
    "from examples.granitewxc_downscaling.utils.plot import *\n",
    "import wget"
   ]
  },
  {
   "cell_type": "code",
   "execution_count": 6,
   "id": "f6eaba0e-9a11-4c54-bb61-f9e5350dda09",
   "metadata": {
    "execution": {
     "iopub.execute_input": "2024-09-20T18:30:34.397306Z",
     "iopub.status.busy": "2024-09-20T18:30:34.396814Z",
     "iopub.status.idle": "2024-09-20T18:30:34.817974Z",
     "shell.execute_reply": "2024-09-20T18:30:34.817220Z",
     "shell.execute_reply.started": "2024-09-20T18:30:34.397276Z"
    }
   },
   "outputs": [],
   "source": [
    "torch.jit.enable_onednn_fusion(True)\n",
    "if torch.cuda.is_available():\n",
    "    torch.backends.cudnn.benchmark = True\n",
    "    torch.backends.cudnn.deterministic = True\n",
    "\n",
    "random.seed(42)\n",
    "if torch.cuda.is_available():\n",
    "    torch.cuda.manual_seed(42)\n",
    "torch.manual_seed(42)\n",
    "np.random.seed(42)"
   ]
  },
  {
   "cell_type": "markdown",
   "id": "6cd31812",
   "metadata": {},
   "source": [
    "### Download Model and Sample Data"
   ]
  },
  {
   "cell_type": "code",
   "execution_count": null,
   "id": "5466c049",
   "metadata": {},
   "outputs": [],
   "source": [
    "import os\n",
    "wget.download('https://huggingface.co/ibm-granite/granite-geospatial-wxc-downscaling/resolve/main/granite.wxc.2300m.v1.downscaling.v1.pth')\n",
    "os.makedirs('climatology', exist_ok=True)\n",
    "os.makedirs('merra-2', exist_ok=True)\n",
    "wget.download('https://huggingface.co/Prithvi-WxC/prithvi.wxc.2300m.v1/resolve/main/merra-2/MERRA2_sfc_20200101.nc', out='merra-2/MERRA2_sfc_20200101.nc')\n",
    "wget.download('https://huggingface.co/Prithvi-WxC/prithvi.wxc.2300m.v1/resolve/main/merra-2/MERRA_pres_20200101.nc', out='merra-2/MERRA_pres_20200101.nc')\n",
    "wget.download('https://huggingface.co/Prithvi-WxC/prithvi.wxc.2300m.v1/resolve/main/climatology/anomaly_variance_surface.nc', out='climatology/anomaly_variance_surface.nc')\n",
    "wget.download('https://huggingface.co/Prithvi-WxC/prithvi.wxc.2300m.v1/resolve/main/climatology/anomaly_variance_vertical.nc', out='climatology/anomaly_variance_vertical.nc')\n",
    "wget.download('https://huggingface.co/Prithvi-WxC/prithvi.wxc.2300m.v1/resolve/main/climatology/musigma_surface.nc', out='climatology/musigma_surface.nc')\n",
    "wget.download('https://huggingface.co/Prithvi-WxC/prithvi.wxc.2300m.v1/resolve/main/climatology/musigma_vertical.nc', out='climatology/musigma_vertical.nc')\n",
    "wget.download('https://huggingface.co/Prithvi-WxC/prithvi.wxc.2300m.v1/resolve/main/climatology/climate_surface_doy001_hour00.nc', out='climatology/climate_surface_doy001_hour00.nc')\n",
    "wget.download('https://huggingface.co/Prithvi-WxC/prithvi.wxc.2300m.v1/resolve/main/climatology/climate_surface_doy001_hour03.nc', out='climatology/climate_surface_doy001_hour03.nc')\n",
    "wget.download('https://huggingface.co/Prithvi-WxC/prithvi.wxc.2300m.v1/resolve/main/climatology/climate_surface_doy001_hour06.nc', out='climatology/climate_surface_doy001_hour06.nc')\n",
    "wget.download('https://huggingface.co/Prithvi-WxC/prithvi.wxc.2300m.v1/resolve/main/climatology/climate_surface_doy001_hour09.nc', out='climatology/climate_surface_doy001_hour09.nc')\n",
    "wget.download('https://huggingface.co/Prithvi-WxC/prithvi.wxc.2300m.v1/resolve/main/climatology/climate_surface_doy001_hour12.nc', out='climatology/climate_surface_doy001_hour12.nc')\n",
    "wget.download('https://huggingface.co/Prithvi-WxC/prithvi.wxc.2300m.v1/resolve/main/climatology/climate_surface_doy001_hour15.nc', out='climatology/climate_surface_doy001_hour15.nc')\n",
    "wget.download('https://huggingface.co/Prithvi-WxC/prithvi.wxc.2300m.v1/resolve/main/climatology/climate_surface_doy001_hour18.nc', out='climatology/climate_surface_doy001_hour18.nc')\n",
    "wget.download('https://huggingface.co/Prithvi-WxC/prithvi.wxc.2300m.v1/resolve/main/climatology/climate_surface_doy001_hour21.nc', out='climatology/climate_surface_doy001_hour21.nc')\n",
    "wget.download('https://huggingface.co/Prithvi-WxC/prithvi.wxc.2300m.v1/resolve/main/climatology/climate_vertical_doy001_hour00.nc', out='climatology/climate_vertical_doy001_hour00.nc')\n",
    "wget.download('https://huggingface.co/Prithvi-WxC/prithvi.wxc.2300m.v1/resolve/main/climatology/climate_vertical_doy001_hour03.nc', out='climatology/climate_vertical_doy001_hour03.nc')\n",
    "wget.download('https://huggingface.co/Prithvi-WxC/prithvi.wxc.2300m.v1/resolve/main/climatology/climate_vertical_doy001_hour06.nc', out='climatology/climate_vertical_doy001_hour06.nc')\n",
    "wget.download('https://huggingface.co/Prithvi-WxC/prithvi.wxc.2300m.v1/resolve/main/climatology/climate_vertical_doy001_hour09.nc', out='climatology/climate_vertical_doy001_hour09.nc')\n",
    "wget.download('https://huggingface.co/Prithvi-WxC/prithvi.wxc.2300m.v1/resolve/main/climatology/climate_vertical_doy001_hour12.nc', out='climatology/climate_vertical_doy001_hour12.nc')\n",
    "wget.download('https://huggingface.co/Prithvi-WxC/prithvi.wxc.2300m.v1/resolve/main/climatology/climate_vertical_doy001_hour15.nc', out='climatology/climate_vertical_doy001_hour15.nc')\n",
    "wget.download('https://huggingface.co/Prithvi-WxC/prithvi.wxc.2300m.v1/resolve/main/climatology/climate_vertical_doy001_hour18.nc', out='climatology/climate_vertical_doy001_hour18.nc')\n",
    "wget.download('https://huggingface.co/Prithvi-WxC/prithvi.wxc.2300m.v1/resolve/main/climatology/climate_vertical_doy001_hour21.nc', out='climatology/climate_vertical_doy001_hour21.nc')"
   ]
  },
  {
   "cell_type": "markdown",
   "id": "5d5df8b7-5dab-4b5d-a438-086c2a7c10dc",
   "metadata": {
    "tags": []
   },
   "source": [
    "### Load Config"
   ]
  },
  {
   "cell_type": "code",
   "execution_count": 8,
   "id": "bb36abbb-6b0b-4699-b5fb-4e7673906c14",
   "metadata": {
    "execution": {
     "iopub.execute_input": "2024-09-20T18:30:34.819194Z",
     "iopub.status.busy": "2024-09-20T18:30:34.818897Z",
     "iopub.status.idle": "2024-09-20T18:30:34.966166Z",
     "shell.execute_reply": "2024-09-20T18:30:34.965599Z",
     "shell.execute_reply.started": "2024-09-20T18:30:34.819164Z"
    },
    "tags": []
   },
   "outputs": [],
   "source": [
    "os.environ[\"LOCAL_RANK\"] = \"0\"\n",
    "os.environ[\"RANK\"] = \"0\"\n",
    "os.environ[\"WORLD_SIZE\"] = \"1\"\n",
    "os.environ[\"MASTER_ADDR\"] = \"localhost\"\n",
    "os.environ[\"MASTER_PORT\"] = \"1234\"\n",
    "\n",
    "local_rank, rank = init_ddp(use_gpu=True)"
   ]
  },
  {
   "cell_type": "code",
   "execution_count": 9,
   "id": "daca334b-b630-42ca-8586-d8ba2c482bcd",
   "metadata": {
    "execution": {
     "iopub.execute_input": "2024-09-20T18:30:34.968552Z",
     "iopub.status.busy": "2024-09-20T18:30:34.968130Z",
     "iopub.status.idle": "2024-09-20T18:30:35.041436Z",
     "shell.execute_reply": "2024-09-20T18:30:35.040834Z",
     "shell.execute_reply.started": "2024-09-20T18:30:34.968521Z"
    },
    "tags": []
   },
   "outputs": [],
   "source": [
    "model_filename = 'granite.wxc.2300m.v1.downscaling.v1.pth'\n",
    "weights_path = './'+model_filename"
   ]
  },
  {
   "cell_type": "markdown",
   "id": "89c2b66f",
   "metadata": {
    "tags": []
   },
   "source": [
    "### Load Config"
   ]
  },
  {
   "cell_type": "code",
   "execution_count": 10,
   "id": "c8fe9d7f-ebe4-4669-ad9f-58f1a3664a3f",
   "metadata": {
    "execution": {
     "iopub.execute_input": "2024-09-20T18:30:35.042683Z",
     "iopub.status.busy": "2024-09-20T18:30:35.042185Z",
     "iopub.status.idle": "2024-09-20T18:30:35.145250Z",
     "shell.execute_reply": "2024-09-20T18:30:35.144820Z",
     "shell.execute_reply.started": "2024-09-20T18:30:35.042652Z"
    }
   },
   "outputs": [],
   "source": [
    "config_path = '../configs/inference_config.yaml'\n",
    "config = get_config(config_path)"
   ]
  },
  {
   "cell_type": "code",
   "execution_count": 11,
   "id": "1ca203e2-0a34-404a-b4ea-ca3f53334c71",
   "metadata": {
    "execution": {
     "iopub.execute_input": "2024-09-20T18:30:35.145928Z",
     "iopub.status.busy": "2024-09-20T18:30:35.145744Z",
     "iopub.status.idle": "2024-09-20T18:30:35.199706Z",
     "shell.execute_reply": "2024-09-20T18:30:35.199348Z",
     "shell.execute_reply.started": "2024-09-20T18:30:35.145909Z"
    },
    "tags": []
   },
   "outputs": [],
   "source": [
    "config.batch_size = 2"
   ]
  },
  {
   "cell_type": "code",
   "execution_count": 12,
   "id": "4993928b",
   "metadata": {},
   "outputs": [],
   "source": [
    "# Only for CCC, remove in future\n",
    "config.data.data_path_surface = 'merra-2'\n",
    "config.data.data_path_vertical = 'merra-2'\n",
    "config.data.climatology_path_surface = 'climatology'\n",
    "config.data.climatology_path_vertical = 'climatology'\n",
    "\n",
    "config.model.input_scalers_surface_path = 'climatology/musigma_surface.nc'\n",
    "config.model.input_scalers_vertical_path = 'climatology/musigma_vertical.nc'\n",
    "config.model.output_scalers_surface_path = 'climatology/anomaly_variance_surface.nc'\n",
    "config.model.output_scalers_vertical_path = 'climatology/anomaly_variance_vertical.nc'"
   ]
  },
  {
   "cell_type": "markdown",
   "id": "ff24860c-bc0f-4cf6-84e7-a4ac9f4221a4",
   "metadata": {
    "tags": []
   },
   "source": [
    "### Load Data"
   ]
  },
  {
   "cell_type": "code",
   "execution_count": null,
   "id": "a873ef0c-7bcb-494b-9963-bd64b56f9d4d",
   "metadata": {
    "execution": {
     "iopub.execute_input": "2024-09-20T18:30:35.200325Z",
     "iopub.status.busy": "2024-09-20T18:30:35.200149Z",
     "iopub.status.idle": "2024-09-20T18:30:36.386899Z",
     "shell.execute_reply": "2024-09-20T18:30:36.386377Z",
     "shell.execute_reply.started": "2024-09-20T18:30:35.200310Z"
    },
    "tags": []
   },
   "outputs": [],
   "source": [
    "config.data.cache = False\n",
    "config.data.val_time_range_start = '2020-01-01T00:00:00'\n",
    "config.data.val_time_range_end = '2020-01-01T23:59:59'\n",
    "\n",
    "_, valid_loader, _, _ = get_dataloaders(config)"
   ]
  },
  {
   "cell_type": "code",
   "execution_count": null,
   "id": "4d528873-06d0-44d7-a58c-90b1773b5038",
   "metadata": {
    "execution": {
     "iopub.execute_input": "2024-09-20T18:30:36.387558Z",
     "iopub.status.busy": "2024-09-20T18:30:36.387405Z",
     "iopub.status.idle": "2024-09-20T18:30:54.107909Z",
     "shell.execute_reply": "2024-09-20T18:30:54.107160Z",
     "shell.execute_reply.started": "2024-09-20T18:30:36.387543Z"
    },
    "tags": []
   },
   "outputs": [],
   "source": [
    "for batch in valid_loader:\n",
    "    for k, v in batch.items():\n",
    "        print(f\"{k}: {v.shape}\")\n",
    "    break\n",
    "    "
   ]
  },
  {
   "cell_type": "code",
   "execution_count": 11,
   "id": "3124e9b2-fd7f-4cc2-bba2-bf1803fe15b6",
   "metadata": {
    "execution": {
     "iopub.execute_input": "2024-09-20T18:30:54.109298Z",
     "iopub.status.busy": "2024-09-20T18:30:54.108998Z",
     "iopub.status.idle": "2024-09-20T18:30:54.187227Z",
     "shell.execute_reply": "2024-09-20T18:30:54.186687Z",
     "shell.execute_reply.started": "2024-09-20T18:30:54.109263Z"
    },
    "tags": []
   },
   "outputs": [],
   "source": [
    "input_shape = batch['x'].shape\n",
    "output_shape = batch['y'].shape"
   ]
  },
  {
   "cell_type": "markdown",
   "id": "bb4f2b74-f923-4bc7-81f1-9dcac83df827",
   "metadata": {
    "tags": []
   },
   "source": [
    "### Load Model"
   ]
  },
  {
   "cell_type": "markdown",
   "id": "47feddee-8dfb-455e-9f66-a2be8e8bfa78",
   "metadata": {},
   "source": [
    "*Note: the following code assumes that gpu is available*"
   ]
  },
  {
   "cell_type": "code",
   "execution_count": null,
   "id": "702fd455-5e7d-4779-ad7a-c3f679d7de28",
   "metadata": {
    "execution": {
     "iopub.execute_input": "2024-09-20T18:32:34.583497Z",
     "iopub.status.busy": "2024-09-20T18:32:34.582963Z",
     "iopub.status.idle": "2024-09-20T18:32:59.237500Z",
     "shell.execute_reply": "2024-09-20T18:32:59.236617Z",
     "shell.execute_reply.started": "2024-09-20T18:32:34.583476Z"
    }
   },
   "outputs": [],
   "source": [
    "config.model.encoder_shift = False\n",
    "\n",
    "model = get_finetune_model(config, logger=None)\n",
    "model.load_state_dict(torch.load(weights_path, weights_only=True, map_location=f'cuda:{torch.cuda.current_device()}'))\n",
    "model.to(torch.cuda.current_device())\n",
    "model.eval() "
   ]
  },
  {
   "cell_type": "markdown",
   "id": "9b5834fb-31df-4732-a926-bb1376b9ad42",
   "metadata": {
    "tags": []
   },
   "source": [
    "### Generate Predictions"
   ]
  },
  {
   "cell_type": "code",
   "execution_count": 14,
   "id": "ae282ce9-4aad-4c7b-9dce-aa9407d65193",
   "metadata": {
    "execution": {
     "iopub.execute_input": "2024-09-20T18:33:12.504972Z",
     "iopub.status.busy": "2024-09-20T18:33:12.504323Z",
     "iopub.status.idle": "2024-09-20T18:33:12.625042Z",
     "shell.execute_reply": "2024-09-20T18:33:12.624331Z",
     "shell.execute_reply.started": "2024-09-20T18:33:12.504942Z"
    },
    "tags": []
   },
   "outputs": [],
   "source": [
    "num_predictions = 2"
   ]
  },
  {
   "cell_type": "code",
   "execution_count": null,
   "id": "3d1dc2f1-919d-41b2-a0ed-f23df8c5a666",
   "metadata": {
    "execution": {
     "iopub.execute_input": "2024-09-20T18:33:13.084093Z",
     "iopub.status.busy": "2024-09-20T18:33:13.083591Z",
     "iopub.status.idle": "2024-09-20T18:33:13.217317Z",
     "shell.execute_reply": "2024-09-20T18:33:13.216628Z",
     "shell.execute_reply.started": "2024-09-20T18:33:13.084066Z"
    },
    "tags": []
   },
   "outputs": [],
   "source": [
    "inputs = np.empty((num_predictions, *input_shape[1:]))\n",
    "targets = np.empty((num_predictions, *output_shape[1:]))\n",
    "predictions = np.empty((num_predictions, *output_shape[1:]))\n",
    "inputs.shape, targets.shape, predictions.shape"
   ]
  },
  {
   "cell_type": "code",
   "execution_count": 16,
   "id": "ed0d3e93-736a-4209-b34c-f32ae1b32eaf",
   "metadata": {
    "execution": {
     "iopub.execute_input": "2024-09-20T18:33:13.776977Z",
     "iopub.status.busy": "2024-09-20T18:33:13.776380Z",
     "iopub.status.idle": "2024-09-20T18:33:45.505968Z",
     "shell.execute_reply": "2024-09-20T18:33:45.505365Z",
     "shell.execute_reply.started": "2024-09-20T18:33:13.776949Z"
    },
    "tags": []
   },
   "outputs": [],
   "source": [
    "with torch.no_grad():\n",
    "    for i, batch in enumerate(valid_loader):\n",
    "        \n",
    "        batch = {k: v.to(torch.cuda.current_device()) for k, v in batch.items()}\n",
    "        preds = model(batch) # output of model is regression_output, classification_output\n",
    "\n",
    "        save_idx_start = i * config.batch_size \n",
    "        save_idx_end = min(save_idx_start + config.batch_size, num_predictions)\n",
    "        if save_idx_start >= num_predictions:\n",
    "            break\n",
    "            \n",
    "        inputs[save_idx_start: save_idx_end] = batch['x'][:save_idx_end - save_idx_start].cpu()\n",
    "        targets[save_idx_start: save_idx_end] = batch['y'][:save_idx_end - save_idx_start].cpu()\n",
    "        predictions[save_idx_start: save_idx_end] = preds[:save_idx_end - save_idx_start].cpu()"
   ]
  },
  {
   "cell_type": "code",
   "execution_count": null,
   "id": "d8f084d8-6072-47ff-8276-e4573232044f",
   "metadata": {
    "execution": {
     "iopub.execute_input": "2024-09-20T18:33:45.507067Z",
     "iopub.status.busy": "2024-09-20T18:33:45.506887Z",
     "iopub.status.idle": "2024-09-20T18:33:45.568754Z",
     "shell.execute_reply": "2024-09-20T18:33:45.568317Z",
     "shell.execute_reply.started": "2024-09-20T18:33:45.507050Z"
    },
    "tags": []
   },
   "outputs": [],
   "source": [
    "inputs.shape, targets.shape, predictions.shape"
   ]
  },
  {
   "cell_type": "markdown",
   "id": "f1e0a99e-3014-4f0d-b10d-b6f90572d5ab",
   "metadata": {
    "tags": []
   },
   "source": [
    "### Plot Target and Predictions"
   ]
  },
  {
   "cell_type": "code",
   "execution_count": 18,
   "id": "76393c04-fea0-4c68-a0cb-07c77c134da1",
   "metadata": {
    "execution": {
     "iopub.execute_input": "2024-09-20T18:33:45.569311Z",
     "iopub.status.busy": "2024-09-20T18:33:45.569157Z",
     "iopub.status.idle": "2024-09-20T18:33:45.621644Z",
     "shell.execute_reply": "2024-09-20T18:33:45.621122Z",
     "shell.execute_reply.started": "2024-09-20T18:33:45.569298Z"
    },
    "tags": []
   },
   "outputs": [],
   "source": [
    "input_vars = [*config.data.input_surface_vars, *product(config.data.input_vertical_vars, config.data.input_levels)]\n",
    "coarsening_factor = targets.shape[-1] / inputs.shape[-1] "
   ]
  },
  {
   "cell_type": "code",
   "execution_count": 39,
   "id": "394ca62c-ce10-4390-88b9-5c1df864a68c",
   "metadata": {
    "execution": {
     "iopub.execute_input": "2024-09-20T19:59:22.286831Z",
     "iopub.status.busy": "2024-09-20T19:59:22.286491Z",
     "iopub.status.idle": "2024-09-20T19:59:22.348934Z",
     "shell.execute_reply": "2024-09-20T19:59:22.348334Z",
     "shell.execute_reply.started": "2024-09-20T19:59:22.286808Z"
    },
    "tags": []
   },
   "outputs": [],
   "source": [
    "var = 0 # target variable\n",
    "var_name = \"T2M\"\n",
    "input_var = input_vars.index(var_name)\n",
    "var_name_title = '2M air temperature' # \"Surface temperature\"\n",
    "var_unit = \"K\""
   ]
  },
  {
   "cell_type": "code",
   "execution_count": 21,
   "id": "f4db1b73-2e1a-4347-bc59-1b6f60a612d6",
   "metadata": {
    "execution": {
     "iopub.execute_input": "2024-09-20T19:38:41.011448Z",
     "iopub.status.busy": "2024-09-20T19:38:41.011084Z",
     "iopub.status.idle": "2024-09-20T19:38:44.898540Z",
     "shell.execute_reply": "2024-09-20T19:38:44.897894Z",
     "shell.execute_reply.started": "2024-09-20T19:38:41.011425Z"
    },
    "tags": []
   },
   "outputs": [],
   "source": [
    "idx = 1 # 0 = first sample\n",
    "sample_time = str(sorted(list(valid_loader.dataset.dataset.valid_timestamps))[idx])"
   ]
  },
  {
   "cell_type": "code",
   "execution_count": 22,
   "id": "69a05bf4-d784-4aa6-aa7e-9e36ced47b37",
   "metadata": {
    "execution": {
     "iopub.execute_input": "2024-09-20T19:38:47.091065Z",
     "iopub.status.busy": "2024-09-20T19:38:47.090817Z",
     "iopub.status.idle": "2024-09-20T19:38:47.168015Z",
     "shell.execute_reply": "2024-09-20T19:38:47.167526Z",
     "shell.execute_reply.started": "2024-09-20T19:38:47.091046Z"
    },
    "tags": []
   },
   "outputs": [],
   "source": [
    "plot_input = inputs[idx, input_var, :, :]\n",
    "plot_target = targets[idx, var, : ,:]\n",
    "plot_pred = predictions[idx, var, :, :]\n",
    "plot_residual = plot_target - plot_pred"
   ]
  },
  {
   "cell_type": "code",
   "execution_count": null,
   "id": "1ae4ed9f-fdaa-4fbc-a515-28da25afc4f8",
   "metadata": {
    "execution": {
     "iopub.execute_input": "2024-09-20T20:02:06.064478Z",
     "iopub.status.busy": "2024-09-20T20:02:06.064243Z",
     "iopub.status.idle": "2024-09-20T20:02:06.533952Z",
     "shell.execute_reply": "2024-09-20T20:02:06.533392Z",
     "shell.execute_reply.started": "2024-09-20T20:02:06.064462Z"
    },
    "tags": []
   },
   "outputs": [],
   "source": [
    "plot_val_kwargs = dict(\n",
    "    cmap='RdYlBu_r',\n",
    "    vmin = min(np.min(plot_input), np.min(plot_target), np.min(plot_pred)),\n",
    "    vmax = max(np.max(plot_input), np.max(plot_target), np.max(plot_pred)),\n",
    "    plot_residual_kwargs = dict(\n",
    "        cmap = 'bwr',\n",
    "        vmin = -np.max(np.abs(plot_residual)),\n",
    "        vamx = np.max(np.abs(plot_residual)),\n",
    "    ),\n",
    "    var_name_title=var_name_title,\n",
    "    var_unit=var_unit\n",
    ")\n",
    "\n",
    "plot_model_results(\n",
    "    [plot_input, plot_pred, plot_target],\n",
    "    ['Input', 'AI Model', 'Ground truth'],\n",
    "    title=f\"Downscaling '{var_name_title}' at {sample_time} by {coarsening_factor}x\",\n",
    "    **plot_val_kwargs\n",
    ")"
   ]
  },
  {
   "cell_type": "code",
   "execution_count": null,
   "id": "42774052-9f8b-4415-ac8f-207902a5ea7c",
   "metadata": {
    "execution": {
     "iopub.execute_input": "2024-09-20T20:03:55.224670Z",
     "iopub.status.busy": "2024-09-20T20:03:55.224359Z",
     "iopub.status.idle": "2024-09-20T20:03:56.247799Z",
     "shell.execute_reply": "2024-09-20T20:03:56.247316Z",
     "shell.execute_reply.started": "2024-09-20T20:03:55.224651Z"
    }
   },
   "outputs": [],
   "source": [
    "vmin_res = -np.max(np.abs(plot_residual))\n",
    "vmax_res = np.max(np.abs(plot_residual))\n",
    "pred_bias = spatial_bias(plot_pred, plot_target)\n",
    "pred_rmse = spatial_rmse(plot_pred, plot_target)\n",
    "\n",
    "fig, axs = plt.subplots(nrows=1,ncols=2,\n",
    "                        figsize=(15,4))\n",
    "\n",
    "title = 'Residuals - RMSE: {:.2f} K, bias: {:.2f} K'.format(pred_rmse, pred_bias)\n",
    "im_res = plot_spatial(plot_residual, axs[0], title,  **plot_val_kwargs.get('plot_residual_kwargs'))\n",
    "cbar = plt.colorbar(im_res, ax=axs[0], orientation='vertical', label=f'{var_name} [K]')\n",
    "\n",
    "plot_power_spectrum(plot_input, axs[1])\n",
    "plot_power_spectrum(plot_target, axs[1])\n",
    "plot_power_spectrum(plot_pred, axs[1])\n",
    "axs[1].legend(['input', 'ground-truth', 'Prithvi WxC'])\n",
    "axs[1].set_title(f'Power spectrum of {var_name_title}')"
   ]
  }
 ],
 "metadata": {
  "kernelspec": {
   "display_name": "Python 3 (ipykernel)",
   "language": "python",
   "name": "python3"
  },
  "language_info": {
   "codemirror_mode": {
    "name": "ipython",
    "version": 3
   },
   "file_extension": ".py",
   "mimetype": "text/x-python",
   "name": "python",
   "nbconvert_exporter": "python",
   "pygments_lexer": "ipython3",
   "version": "3.11.10"
  }
 },
 "nbformat": 4,
 "nbformat_minor": 5
}
